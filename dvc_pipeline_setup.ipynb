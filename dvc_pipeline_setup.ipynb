{
 "cells": [
  {
   "cell_type": "code",
   "execution_count": null,
   "id": "660ea6cc",
   "metadata": {},
   "outputs": [],
   "source": [
    "# Initialize Git if not already initialized\n",
    "#!git init\n",
    "\n",
    "# Initialize DVC\n",
    "!dvc init"
   ]
  },
  {
   "cell_type": "code",
   "execution_count": null,
   "id": "45698e4a",
   "metadata": {},
   "outputs": [],
   "source": [
    "!dvc add data/raw/train.csv"
   ]
  },
  {
   "cell_type": "code",
   "execution_count": null,
   "id": "be59c455",
   "metadata": {},
   "outputs": [],
   "source": [
    "!git add --all\n",
    "!git commit -m \"First commit with setup and DVC files\"\n",
    "#!dvc push -r origin"
   ]
  },
  {
   "cell_type": "code",
   "execution_count": null,
   "id": "e48f6167",
   "metadata": {},
   "outputs": [],
   "source": [
    "!git push"
   ]
  },
  {
   "cell_type": "code",
   "execution_count": null,
   "id": "3b6c119d",
   "metadata": {},
   "outputs": [],
   "source": [
    "!python src/prepare.py"
   ]
  },
  {
   "cell_type": "code",
   "execution_count": null,
   "id": "9133e129",
   "metadata": {},
   "outputs": [],
   "source": [
    "!dvc add data/prepared/train.csv data/prepared/test.csv\n",
    "!git add --all\n",
    "!git commit -m \"Created train and test CSV files\""
   ]
  },
  {
   "cell_type": "code",
   "execution_count": null,
   "id": "b8b0f278",
   "metadata": {},
   "outputs": [],
   "source": [
    "!python src/train.py"
   ]
  },
  {
   "cell_type": "code",
   "execution_count": null,
   "id": "4bb6742b",
   "metadata": {},
   "outputs": [],
   "source": [
    "!dvc add model/model.joblib\n",
    "!git add --all\n",
    "!git commit -m \"First training\""
   ]
  },
  {
   "cell_type": "code",
   "execution_count": null,
   "id": "d6cd3402",
   "metadata": {},
   "outputs": [],
   "source": [
    "!python src/evaluate.py"
   ]
  },
  {
   "cell_type": "code",
   "execution_count": null,
   "id": "e19e01a5",
   "metadata": {},
   "outputs": [],
   "source": [
    "!git add --all\n",
    "!git commit -m \"Evaluate the model accuracy\""
   ]
  },
  {
   "cell_type": "code",
   "execution_count": null,
   "id": "929299aa",
   "metadata": {},
   "outputs": [],
   "source": [
    "!git push\n",
    "#!dvc push -r origin"
   ]
  },
  {
   "cell_type": "code",
   "execution_count": null,
   "id": "18597d66",
   "metadata": {},
   "outputs": [],
   "source": [
    "!git checkout -b reproducible-pipeline\n",
    "!dvc remove data/prepared/train.csv.dvc\n",
    "!dvc remove data/prepared/test.csv.dvc\n",
    "!dvc remove model/model.joblib.dvc"
   ]
  },
  {
   "cell_type": "code",
   "execution_count": null,
   "id": "152e56be",
   "metadata": {},
   "outputs": [],
   "source": [
    "# Prepare stage\n",
    "!dvc stage add -n prepare \\\n",
    "  -d src/prepare.py -d data/raw \\\n",
    "  -o data/prepared/train.csv -o data/prepared/test.csv \\\n",
    "  python src/prepare.py\n",
    "\n",
    "# Train stage\n",
    "!dvc stage add -n train \\\n",
    "  -d src/train.py \\\n",
    "  -d data/prepared/train.csv \\\n",
    "  -p train.model,train.C,train.max_iter,train.n_estimators \\\n",
    "  -o model/model.joblib \\\n",
    "  python src/train.py\n",
    "\n",
    "# Evaluate stage\n",
    "!dvc stage add -n evaluate \\\n",
    "  -d src/evaluate.py -d model/model.joblib \\\n",
    "  -M metrics/accuracy.json \\\n",
    "  python src/evaluate.py"
   ]
  },
  {
   "cell_type": "code",
   "execution_count": null,
   "id": "cf647634",
   "metadata": {},
   "outputs": [],
   "source": [
    "!git add dvc.yaml\n",
    "!git commit -m \"Added DVC pipeline\""
   ]
  },
  {
   "cell_type": "code",
   "execution_count": null,
   "id": "eb8daab6",
   "metadata": {},
   "outputs": [],
   "source": [
    "!git push --set-upstream origin reproducible-pipeline"
   ]
  },
  {
   "cell_type": "code",
   "execution_count": null,
   "id": "91ae5ed4",
   "metadata": {},
   "outputs": [],
   "source": [
    "!git checkout -b random-forest"
   ]
  },
  {
   "cell_type": "code",
   "execution_count": null,
   "id": "ba54a134",
   "metadata": {},
   "outputs": [],
   "source": [
    "!dvc repro"
   ]
  },
  {
   "cell_type": "code",
   "execution_count": null,
   "id": "f91f8ab4",
   "metadata": {},
   "outputs": [],
   "source": [
    "!dvc metrics show"
   ]
  },
  {
   "cell_type": "code",
   "execution_count": null,
   "id": "ced8e7f4",
   "metadata": {},
   "outputs": [],
   "source": [
    "!git add dvc.yaml dvc.lock metrics/accuracy.json params.yaml\n",
    "!git commit -m \"Try random forest with n_estimators: 100\"\n",
    "!git push --set-upstream origin random-forest"
   ]
  },
  {
   "cell_type": "code",
   "execution_count": null,
   "id": "fa6392d0",
   "metadata": {},
   "outputs": [],
   "source": [
    "!git checkout -b logistic-regression"
   ]
  },
  {
   "cell_type": "code",
   "execution_count": null,
   "id": "c2eaa357",
   "metadata": {},
   "outputs": [],
   "source": [
    "from pathlib import Path\n",
    "import yaml\n",
    "\n",
    "# Load params.yaml\n",
    "params_path = Path(\"params.yaml\")\n",
    "params = yaml.safe_load(params_path.read_text())\n",
    "\n",
    "# Change model to logistic\n",
    "params[\"train\"][\"model\"] = \"logistic\"\n",
    "\n",
    "# Optionally change hyperparameters too\n",
    "params[\"train\"][\"C\"] = 1.0\n",
    "params[\"train\"][\"max_iter\"] = 100\n",
    "\n",
    "# Save the updated params.yaml\n",
    "params_path.write_text(yaml.dump(params, sort_keys=False))\n",
    "\n",
    "print(\"Updated params.yaml to use Logistic Regression\")"
   ]
  },
  {
   "cell_type": "code",
   "execution_count": null,
   "id": "c404065b",
   "metadata": {},
   "outputs": [],
   "source": [
    "# Check what changed in pipeline\n",
    "!dvc status"
   ]
  },
  {
   "cell_type": "code",
   "execution_count": null,
   "id": "5b12133d",
   "metadata": {},
   "outputs": [],
   "source": [
    "# Re-run training + evaluation stages\n",
    "!dvc repro evaluate"
   ]
  },
  {
   "cell_type": "code",
   "execution_count": null,
   "id": "598ffdce",
   "metadata": {},
   "outputs": [],
   "source": [
    "# Show metrics\n",
    "!dvc metrics show -T"
   ]
  },
  {
   "cell_type": "code",
   "execution_count": null,
   "id": "b9fbf4df",
   "metadata": {},
   "outputs": [],
   "source": [
    "!git add dvc.yaml dvc.lock metrics/accuracy.json params.yaml\n",
    "!git commit -m \"Try logistic regression\"\n",
    "!git push --set-upstream origin logistic-regression"
   ]
  },
  {
   "cell_type": "code",
   "execution_count": null,
   "id": "9eb0d7b1",
   "metadata": {},
   "outputs": [],
   "source": [
    "!dvc dag"
   ]
  }
 ],
 "metadata": {
  "kernelspec": {
   "display_name": ".venv",
   "language": "python",
   "name": "python3"
  },
  "language_info": {
   "codemirror_mode": {
    "name": "ipython",
    "version": 3
   },
   "file_extension": ".py",
   "mimetype": "text/x-python",
   "name": "python",
   "nbconvert_exporter": "python",
   "pygments_lexer": "ipython3",
   "version": "3.9.6"
  }
 },
 "nbformat": 4,
 "nbformat_minor": 5
}
